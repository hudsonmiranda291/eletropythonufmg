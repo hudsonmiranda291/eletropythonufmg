{
 "cells": [
  {
   "cell_type": "markdown",
   "metadata": {},
   "source": [
    "# Aula 1\n",
    "## Cálculo de força elétrica\n",
    "\n",
    "O script abaixo define uma função para cálculo da força elétrica entre duas cargas q1 e q2 e utiliza essa função para traçar o comportamento da curva de Força Elétrica por distância."
   ]
  },
  {
   "cell_type": "markdown",
   "metadata": {},
   "source": [
    "### Carrega bibliotecas\n",
    "Primeiramente devemos declarar as bibliotecas externas que serão utilizadas no programa"
   ]
  },
  {
   "cell_type": "code",
   "execution_count": 1,
   "metadata": {
    "collapsed": true
   },
   "outputs": [],
   "source": [
    "import numpy as np\n",
    "import matplotlib.pyplot as plotter\n",
    "from numpy.linalg import norm as modulo"
   ]
  },
  {
   "cell_type": "markdown",
   "metadata": {},
   "source": [
    "### Declaração de constantes físicas"
   ]
  },
  {
   "cell_type": "code",
   "execution_count": 2,
   "metadata": {
    "collapsed": true
   },
   "outputs": [],
   "source": [
    "E0 = 8.8e-12 # Permissividade dieletrica no vacuo [C^2/(N*m^2)]\n",
    "K = 1/(4*np.pi*E0) # Calcular K por conveniencia [(N*m^2)/C^2]\n",
    "e = 1.60217662e-19 # Carga do eletron [C]"
   ]
  },
  {
   "cell_type": "markdown",
   "metadata": {},
   "source": [
    "### Função de cálculo de força elétrica\n",
    "Cálculo vetorial da força entre duas cargas q1 e q2. A função recebe as cargas q1 e q2 e suas posições r1 e r2"
   ]
  },
  {
   "cell_type": "code",
   "execution_count": 27,
   "metadata": {
    "collapsed": true
   },
   "outputs": [],
   "source": [
    "def CalcularForca(q1,q2,r1,r2):\n",
    "    if np.array_equal(r1, r2): # Se as cargas estao na mesma posicao, desconsidera a chamada da funcao\n",
    "        return 0\n",
    "    else:\n",
    "        denominador = np.square(modulo(r2-r1))\n",
    "        r_chapeu = (r2-r1)/modulo(r2-r1)\n",
    "        return (K*q1*q2)/denominador*r_chapeu"
   ]
  },
  {
   "cell_type": "markdown",
   "metadata": {},
   "source": [
    "### Simulação\n",
    "\n",
    "Gera um vetor de posições e calcula a força entre duas cargas variando a posição de q2"
   ]
  },
  {
   "cell_type": "code",
   "execution_count": 4,
   "metadata": {
    "collapsed": true
   },
   "outputs": [],
   "source": [
    "num_pontos = 100\n",
    "posicoes = np.linspace(start=2, stop=10, num=num_pontos) # Cria uma matriz de posicoes unidimensionais\n",
    "forcas = np.zeros(posicoes.shape) # Cria uma matriz de zeros para armazenar resultado\n",
    "q1 = 1*e\n",
    "q2 = q1\n",
    "r1 = 0 # Coloca a carga q1 na origem\n",
    "\n",
    "for i in np.arange(num_pontos): # Para cada posicao, calcular a forca correspondente\n",
    "    r2 = posicoes[i]\n",
    "    forcas[i] = CalcularForca(q1, q2, r1, r2)"
   ]
  },
  {
   "cell_type": "markdown",
   "metadata": {},
   "source": [
    "### Exibição de resultados\n",
    "Plota a curva de Força em função da distância"
   ]
  },
  {
   "cell_type": "code",
   "execution_count": 5,
   "metadata": {},
   "outputs": [
    {
     "data": {
      "image/png": "[encoded data removed]",
      "text/plain": [
       "<matplotlib.figure.Figure at 0x7f5b7869f710>"
      ]
     },
     "metadata": {},
     "output_type": "display_data"
    }
   ],
   "source": [
    "plotter.plot(posicoes, forcas)\n",
    "plotter.xlabel(\"Distancia [m]\")\n",
    "plotter.ylabel(\"Forca [N]\")\n",
    "plotter.show()"
   ]
  },
  {
   "cell_type": "markdown",
   "metadata": {
    "collapsed": true
   },
   "source": [
    "## Exercício 1: \n",
    "Fazer um gráfico de Força em função da carga de uma das partículas"
   ]
  },
  {
   "cell_type": "code",
   "execution_count": null,
   "metadata": {},
   "outputs": [],
   "source": []
  },
  {
   "cell_type": "markdown",
   "metadata": {},
   "source": [
    "## Exercício 2: \n",
    "Calcular a força resultante em q1 dado o conjunto de cargas abaixo. Você deverá criar um loop que percorre a lista de cargas e calcula a força resultante sobre q1."
   ]
  },
  {
   "cell_type": "code",
   "execution_count": 28,
   "metadata": {
    "collapsed": true
   },
   "outputs": [],
   "source": [
    "q1 = 1*e\n",
    "r1 = np.array([0, 0])\n",
    "\n",
    "cargas = np.array([1*e, -1*e, 3*e])\n",
    "posicoes = np.array([[1,2], [1.3, 1.5], [0,2]])"
   ]
  }
 ],
 "metadata": {
  "kernelspec": {
   "display_name": "Python 2",
   "language": "python",
   "name": "python2"
  },
  "language_info": {
   "codemirror_mode": {
    "name": "ipython",
    "version": 2
   },
   "file_extension": ".py",
   "mimetype": "text/x-python",
   "name": "python",
   "nbconvert_exporter": "python",
   "pygments_lexer": "ipython2",
   "version": "2.7.14"
  }
 },
 "nbformat": 4,
 "nbformat_minor": 2
}
