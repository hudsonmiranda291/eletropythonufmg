{
 "cells": [
  {
   "cell_type": "markdown",
   "metadata": {},
   "source": [
    "# Aula 2\n",
    "## Cálculo de campo elétrico\n",
    "\n",
    "Dado um conjunto de cargas no espaço, o script abaixo calcula o campo elétrico resultante.\n",
    "Baseado em: https://scipython.com/blog/visualizing-a-vector-field-with-matplotlib/"
   ]
  },
  {
   "cell_type": "code",
   "execution_count": 33,
   "metadata": {},
   "outputs": [],
   "source": [
    "import numpy as np\n",
    "import matplotlib.pyplot as plt\n",
    "from matplotlib.patches import Circle"
   ]
  },
  {
   "cell_type": "code",
   "execution_count": 34,
   "metadata": {},
   "outputs": [],
   "source": [
    "E0 = 8.8e-12 # Permissividade dieletrica no vacuo [C^2/(N*m^2)]\n",
    "K = 1/(4*np.pi*E0) # Calcular K por conveniencia [(N*m^2)/C^2]\n",
    "e = 1.60217662e-19 # Carga do eletron [C]\n",
    "vermelho = '#ff0000'\n",
    "azul = '#0000ff'"
   ]
  },
  {
   "cell_type": "markdown",
   "metadata": {},
   "source": [
    "## Função para cálculo do campo elétrico em duas dimensões\n",
    "A função recebe um valor de carga q, sua posição r0 e um ponto arbitrário (x,y) para o qual o valor de campo é calculado"
   ]
  },
  {
   "cell_type": "code",
   "execution_count": 35,
   "metadata": {},
   "outputs": [],
   "source": [
    "def CalcularCampo(q, r0, x, y):\n",
    "    # Calcula campo eletrico gerado por uma carga q na posicao r0 sobre o ponto (x,y).\n",
    "    den = np.hypot(x-r0[0], y-r0[1])**3 # |r|^3\n",
    "    # Calculo separado por componentes\n",
    "    Ex = K * q * (x - r0[0]) / den # q*r21/|r21|^3\n",
    "    Ey = K * q * (y - r0[1]) / den\n",
    "    return Ex, Ey "
   ]
  },
  {
   "cell_type": "markdown",
   "metadata": {},
   "source": [
    "Gera uma grade de pontos para os quais o campo será calculado"
   ]
  },
  {
   "cell_type": "code",
   "execution_count": 36,
   "metadata": {},
   "outputs": [],
   "source": [
    "nx, ny = 64, 64 # número de pontos em cada eixo\n",
    "x = np.linspace(-2, 2, nx)\n",
    "y = np.linspace(-2, 2, ny)\n",
    "X, Y = np.meshgrid(x, y)\n",
    "EtotalX = np.zeros((ny, nx)) #Campo resultante em X\n",
    "EtotalY = np.zeros((ny, nx)) #Campo resultante em Y"
   ]
  },
  {
   "cell_type": "markdown",
   "metadata": {},
   "source": [
    "## Criação da lista de cargas para as quais o campo resultante será calculado\n",
    "As cargas são definidas no formato (Carga, (posicao_x, posicao_y)) separados por vírgula"
   ]
  },
  {
   "cell_type": "code",
   "execution_count": 37,
   "metadata": {},
   "outputs": [],
   "source": [
    "cargas = [(e,(-1, 0))]"
   ]
  },
  {
   "cell_type": "markdown",
   "metadata": {},
   "source": [
    "A contribuição de cada carga é contabilizada para o campo total"
   ]
  },
  {
   "cell_type": "code",
   "execution_count": null,
   "metadata": {},
   "outputs": [],
   "source": [
    "for charge in cargas:\n",
    "    ex, ey = CalcularCampo(*charge, x=X, y=Y)\n",
    "    EtotalX += ex\n",
    "    EtotalY += ey"
   ]
  },
  {
   "cell_type": "markdown",
   "metadata": {},
   "source": [
    "## Desenha o resultado\n",
    "Desenha em um gráfico bidimensional as cargas positivas em vermelho e as negativas em azul, traça as linhas de campo e as colore de acordo com a magnitude do campo elétrico na dada região."
   ]
  },
  {
   "cell_type": "code",
   "execution_count": null,
   "metadata": {},
   "outputs": [],
   "source": [
    "fig = plt.figure(figsize=(5,5), dpi= 150)\n",
    "ax = fig.add_subplot(111)\n",
    "\n",
    "# Colore de acordo com magnitude do vetor e mapeia para escala logaritmica\n",
    "color = 2 * np.log(np.hypot(EtotalX, EtotalY)) \n",
    "\n",
    "ax.streamplot(x, y, EtotalX, EtotalY, color=color, linewidth=1, cmap=plt.cm.inferno,\n",
    "              density=2, arrowstyle='->', arrowsize=1.5)\n",
    "\n",
    "# Adiciona circulos coloridos que representam as cargas\n",
    "for q, pos in cargas:\n",
    "    if q >0:\n",
    "        cor = vermelho\n",
    "    else:\n",
    "        cor = azul\n",
    "    ax.add_artist(Circle(pos, radius=0.05, color=cor))\n",
    "\n",
    "# Identifica eixos\n",
    "ax.set_xlabel('x [m]')\n",
    "ax.set_ylabel('y [m]')\n",
    "ax.set_xlim(-2,2)\n",
    "ax.set_ylim(-2,2)\n",
    "ax.set_aspect('equal')\n",
    "plt.show()"
   ]
  },
  {
   "cell_type": "markdown",
   "metadata": {
    "collapsed": true
   },
   "source": [
    "## Exercicio 1: \n",
    "Modifique a lista de cargas para criar um dipolo com orientação em j."
   ]
  },
  {
   "cell_type": "code",
   "execution_count": null,
   "metadata": {},
   "outputs": [],
   "source": []
  },
  {
   "cell_type": "markdown",
   "metadata": {
    "collapsed": true
   },
   "source": [
    "## Exercicio 2: \n",
    "Modifique os valores das cargas e observe o efeito no campo resultante."
   ]
  },
  {
   "cell_type": "code",
   "execution_count": null,
   "metadata": {},
   "outputs": [],
   "source": []
  },
  {
   "cell_type": "markdown",
   "metadata": {},
   "source": [
    "## Exercício 3:\n",
    "Explique o motivo pelo qual o gráfico desenhado não está fiel à física de campos elétricos."
   ]
  },
  {
   "cell_type": "code",
   "execution_count": null,
   "metadata": {},
   "outputs": [],
   "source": []
  }
 ],
 "metadata": {
  "kernelspec": {
   "display_name": "Python 2",
   "language": "python",
   "name": "python2"
  },
  "language_info": {
   "codemirror_mode": {
    "name": "ipython",
    "version": 2
   },
   "file_extension": ".py",
   "mimetype": "text/x-python",
   "name": "python",
   "nbconvert_exporter": "python",
   "pygments_lexer": "ipython2",
   "version": "2.7.14"
  }
 },
 "nbformat": 4,
 "nbformat_minor": 2
}
