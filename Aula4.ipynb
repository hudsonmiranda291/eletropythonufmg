{
 "cells": [
  {
   "cell_type": "markdown",
   "metadata": {},
   "source": [
    "# Aula 4\n",
    "\n",
    "# Soluções Numéricas\n",
    "\n",
    "Frequentemente, em situações reais, os problemas de engenharia são muito complexos para que uma solução analítica (uma equação explícita). Nesses casos geralmente utilizamos soluções numéricas. De forma geral essas soluções consistem em dividir um problema real em pequenas partes (discretização) e aplicar os princípios físicos que regem o problema às essas pequenas partes. Nessa aula construiremos soluções numéricas para problemas de magnetismo."
   ]
  },
  {
   "cell_type": "code",
   "execution_count": 27,
   "metadata": {
    "collapsed": true
   },
   "outputs": [],
   "source": [
    "import numpy as np\n",
    "import matplotlib.pyplot as plt\n",
    "\n",
    "mi0 = 4*np.pi*1e-7 #[H/m]"
   ]
  },
  {
   "cell_type": "markdown",
   "metadata": {},
   "source": [
    "Trataremos do problema de um dipolo magnético, conforme a seção 8.4 do livro Física Básica - Eletromagnetismo de Alaor Chaves. Esse problema consiste no cálculo do campo magnético ao longo do eixo Z gerado por uma espira de raio $R$ onde circula uma corrente $I$, conforme figura abaixo:"
   ]
  },
  {
   "cell_type": "markdown",
   "metadata": {},
   "source": [
    "<img src=\"problema_aula_4.png\" alt=\"drawing\" style=\"width: 25%;\"/>"
   ]
  },
  {
   "cell_type": "markdown",
   "metadata": {},
   "source": [
    "Para esse caso específico, uma solução analítica é possível e é dada por:\n",
    "\n"
   ]
  },
  {
   "cell_type": "markdown",
   "metadata": {},
   "source": [
    "\\begin{equation}\n",
    "B = \\frac{\\mu_0}{2} \\frac{IR^2}{(R^2+z^2)^{3/2}} \n",
    "\\end{equation}"
   ]
  },
  {
   "cell_type": "markdown",
   "metadata": {},
   "source": [
    "Que podemos implementar em Python facilmente:"
   ]
  },
  {
   "cell_type": "code",
   "execution_count": 28,
   "metadata": {
    "collapsed": true
   },
   "outputs": [],
   "source": [
    "def CalcularB(I, R, z):\n",
    "    return (mi0*I*np.power(R,2))/(2.0*np.power(np.power(R, 2) + np.power(z, 2),3.0/2.0))"
   ]
  },
  {
   "cell_type": "markdown",
   "metadata": {},
   "source": [
    "E podemos testá-la com valores arbitrários"
   ]
  },
  {
   "cell_type": "code",
   "execution_count": 29,
   "metadata": {},
   "outputs": [
    {
     "data": {
      "text/plain": [
       "1.1848404026933503e-07"
      ]
     },
     "execution_count": 29,
     "metadata": {},
     "output_type": "execute_result"
    }
   ],
   "source": [
    "R = 5 # [m] Raio da espira condutora\n",
    "I = 1 # [A] corrente que circula na espira\n",
    "z_pos = 1 # [m] posicao em Z para o qual o valor de campo magnetico sera calculado\n",
    "\n",
    "CalcularB(I,R,z_pos)"
   ]
  },
  {
   "cell_type": "markdown",
   "metadata": {},
   "source": [
    "Para desenvolver um método numérico que resolve o mesmo tipo de problema, precisamos primeiramente discretizar o sistema físico. Começaremos representando o círculo por um conjunto de pontos igualmente espaçados ao longo de seu perímetro."
   ]
  },
  {
   "cell_type": "code",
   "execution_count": 43,
   "metadata": {
    "collapsed": true
   },
   "outputs": [],
   "source": [
    "num_pts = 30 # numero de pontos para discretizacao da espira\n",
    "circle = np.zeros((num_pts,3)) # matriz de coordenadas x,y,z dos pontos que representam a espira\n",
    "angles = np.linspace(start=0, stop=2*np.pi, num=num_pts) # os angulos para os quais calcularemos os pontos\n",
    "\n",
    "for idx, angle in enumerate(angles):\n",
    "    circle[idx,0] = R*np.cos(angle)\n",
    "    circle[idx,1] = R*np.sin(angle)\n",
    "    "
   ]
  },
  {
   "cell_type": "code",
   "execution_count": 44,
   "metadata": {},
   "outputs": [
    {
     "data": {
      "image/png": "[encoded data removed]",
      "text/plain": [
       "<matplotlib.figure.Figure at 0xed23780>"
      ]
     },
     "metadata": {},
     "output_type": "display_data"
    }
   ],
   "source": [
    "plt.figure(figsize=(10,10))\n",
    "plt.scatter(circle[:,0], circle[:,1])\n",
    "plt.xlabel('Eixo X [m]')\n",
    "plt.ylabel('Eixo Y [m]')\n",
    "plt.show()"
   ]
  },
  {
   "cell_type": "markdown",
   "metadata": {},
   "source": [
    "Com essa estrutura já podemos, por exemplo, calcular o perímetro da espira numericamente. Nesse caso devemos implementar a seguinte integral:"
   ]
  },
  {
   "cell_type": "markdown",
   "metadata": {},
   "source": [
    "\\begin{equation}\n",
    "        P = \\int_{C}|d\\overrightarrow{L}|\n",
    "\\end{equation}"
   ]
  },
  {
   "cell_type": "markdown",
   "metadata": {},
   "source": [
    "No domínio discreto, a integral acima vira um simples somatório:"
   ]
  },
  {
   "cell_type": "markdown",
   "metadata": {},
   "source": [
    "\\begin{equation}\n",
    "        P = \\sum_{n=1}^{k-1} |c[n+1]-c[n]|\n",
    "\\end{equation}"
   ]
  },
  {
   "cell_type": "markdown",
   "metadata": {},
   "source": [
    "Onde $c[n]$ é o elemento na n-ésima linha da matriz de pontos do círculo."
   ]
  },
  {
   "cell_type": "code",
   "execution_count": 45,
   "metadata": {},
   "outputs": [
    {
     "name": "stdout",
     "output_type": "stream",
     "text": [
      "O perimetro calculado eh 31.3545153 e o valor teorico eh de 31.4159265 \n"
     ]
    }
   ],
   "source": [
    "perimeter = 0\n",
    "dL = np.zeros(circle.shape) # guardaremos os dLs para uso futuro\n",
    "for idx in range(num_pts-1):\n",
    "    dl = circle[idx+1,:] - circle[idx,:]\n",
    "    dL[idx,:] = dl\n",
    "    perimeter = perimeter + np.linalg.norm(dl)\n",
    "print(\"O perimetro calculado eh %.7f e o valor teorico eh de %.7f \" % (perimeter, 2*np.pi*R))    \n",
    "    "
   ]
  },
  {
   "cell_type": "markdown",
   "metadata": {},
   "source": [
    "Lembrando que quanto maior o número de pontos utilizados na discretização, melhor será a aproximação. Altere a variável $num\\_pts$ e veja o impacto no valor da aproximação."
   ]
  },
  {
   "cell_type": "markdown",
   "metadata": {},
   "source": [
    "Agora que temos os pontos da espira e uma matriz com todos os $dL$s que precisamos, conforme figura abaixo, podemos voltar ao problema inicial."
   ]
  },
  {
   "cell_type": "code",
   "execution_count": 46,
   "metadata": {},
   "outputs": [
    {
     "data": {
      "image/png": "[encoded data removed]",
      "text/plain": [
       "<matplotlib.figure.Figure at 0xe0e26d8>"
      ]
     },
     "metadata": {},
     "output_type": "display_data"
    }
   ],
   "source": [
    "plt.figure(figsize=(10,10))\n",
    "plt.scatter(circle[:,0], circle[:,1])\n",
    "plt.quiver(circle[:,0], circle[:,1], dL[:,0], dL[:,1],units='inches')\n",
    "plt.show()\n"
   ]
  },
  {
   "cell_type": "markdown",
   "metadata": {},
   "source": [
    "A integral que deve ser resolvida é:"
   ]
  },
  {
   "cell_type": "markdown",
   "metadata": {},
   "source": [
    "\\begin{equation}\n",
    "    \\overrightarrow{B} = \\frac{\\mu_0 I}{4\\pi} \\int \\frac{d\\overrightarrow{L} \\times \\overrightarrow{r}}{|\\overrightarrow{r}|^3}\n",
    "\\end{equation}"
   ]
  },
  {
   "cell_type": "code",
   "execution_count": 47,
   "metadata": {},
   "outputs": [
    {
     "name": "stdout",
     "output_type": "stream",
     "text": [
      "O valor teorico do campo na direcao Z eh 1.18484E-07 e o valor calculado numericamente eh 1.17559E-07\n",
      "O erro da aproximacao numerica eh 0.780536%\n"
     ]
    }
   ],
   "source": [
    "B_resultante = np.zeros((1,3))\n",
    "z_vector = np.array([0,0,z_pos])\n",
    "K = (mi0/(4*np.pi))*I # retiramos os termos constantes da integral\n",
    "\n",
    "for c, dL_vec in zip(circle, dL):\n",
    "    r_vec = z_vector - c\n",
    "    dem = np.linalg.norm(r_vec)**3\n",
    "    B_resultante = B_resultante + np.cross(dL_vec, r_vec)/dem\n",
    "\n",
    "B_resultante = B_resultante*K\n",
    "valor_analitico = CalcularB(I,R,z_pos)\n",
    "print (\"O valor teorico do campo na direcao Z eh %.5E e o valor calculado numericamente eh %.5E\" % (valor_analitico, B_resultante[0,2]))\n",
    "print (\"O erro da aproximacao numerica eh %f%%\" % ((valor_analitico - B_resultante[0,2])*100/valor_analitico))"
   ]
  },
  {
   "cell_type": "markdown",
   "metadata": {},
   "source": [
    "Utilizando a solução numérica temos acesso ainda a todas as componentes de $\\overrightarrow{B}$:"
   ]
  },
  {
   "cell_type": "code",
   "execution_count": 48,
   "metadata": {},
   "outputs": [
    {
     "name": "stdout",
     "output_type": "stream",
     "text": [
      "[[ -3.46944695e-25  -1.01915004e-24   1.17559229e-07]]\n"
     ]
    }
   ],
   "source": [
    "print(B_resultante)"
   ]
  },
  {
   "cell_type": "markdown",
   "metadata": {},
   "source": [
    "Pode-se notar que as componentes X e Y não são exatamente 0, porém muito próximos, por conta da precisão da simulação."
   ]
  },
  {
   "cell_type": "markdown",
   "metadata": {},
   "source": [
    "## Exercício 1\n",
    "\n",
    "Refazer a simulação substituindo o círculo de raio $R$ por um quadrado de lado $L=1m$ centrado na origem."
   ]
  },
  {
   "cell_type": "code",
   "execution_count": null,
   "metadata": {
    "collapsed": true
   },
   "outputs": [],
   "source": []
  },
  {
   "cell_type": "markdown",
   "metadata": {},
   "source": [
    "## Exercício 2\n",
    "\n",
    "\n",
    "Dada a simulação do Ex. 1, agora calcular o módulo do campo magnético $\\overrightarrow{B}$ ao longo do eixo X e plotar o resultado no intervalo de $-2 m$ à $2 m$."
   ]
  },
  {
   "cell_type": "code",
   "execution_count": null,
   "metadata": {
    "collapsed": true
   },
   "outputs": [],
   "source": []
  }
 ],
 "metadata": {
  "kernelspec": {
   "display_name": "Python 2",
   "language": "python",
   "name": "python2"
  },
  "language_info": {
   "codemirror_mode": {
    "name": "ipython",
    "version": 2
   },
   "file_extension": ".py",
   "mimetype": "text/x-python",
   "name": "python",
   "nbconvert_exporter": "python",
   "pygments_lexer": "ipython2",
   "version": "2.7.13"
  }
 },
 "nbformat": 4,
 "nbformat_minor": 2
}
