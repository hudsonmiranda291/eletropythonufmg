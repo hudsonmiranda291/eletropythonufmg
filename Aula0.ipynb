{
 "cells": [
  {
   "cell_type": "markdown",
   "metadata": {
    "collapsed": true
   },
   "source": [
    "# Aula 0"
   ]
  },
  {
   "cell_type": "markdown",
   "metadata": {},
   "source": [
    "Nessa aula serão abordados alguns conceitos básicos de programação. Existem também diversas fontes de suporte disponíveis na internet como:<br/>\n",
    "https://docs.python.org/3/tutorial/index.html (tutoriais oficiais)<br/> https://docs.python.org/3/library/index.html (referencia de funcoes oficial)<br/>\n",
    "https://www.learnpython.org/ (tutorial interativo)<br/>\n",
    "www.urionlinejudge.com.br (Exercíos e desafios)"
   ]
  },
  {
   "cell_type": "markdown",
   "metadata": {},
   "source": [
    "## Variáveis\n",
    "São entidades de programação que armazenam valores. Elas têm nome definido pelo usuário e o seu tipo depende de como ela é utilizada (o tipo é deduzido dinamicamente). Para declarar uma variável com nome X e que tenha o valor de 5 basta:"
   ]
  },
  {
   "cell_type": "code",
   "execution_count": 1,
   "metadata": {},
   "outputs": [],
   "source": [
    "X = 5"
   ]
  },
  {
   "cell_type": "markdown",
   "metadata": {},
   "source": [
    "Para saber o tipo de uma variável, podemos inspecionar seu tipo com a função $type$"
   ]
  },
  {
   "cell_type": "code",
   "execution_count": 2,
   "metadata": {},
   "outputs": [
    {
     "data": {
      "text/plain": [
       "int"
      ]
     },
     "execution_count": 2,
     "metadata": {},
     "output_type": "execute_result"
    }
   ],
   "source": [
    "type(X)"
   ]
  },
  {
   "cell_type": "markdown",
   "metadata": {},
   "source": [
    "\"int\" quer dizer que o tipo é $integer$, ou seja, inteiro. Se quisermos que a variável aceite numeros reais, temos:"
   ]
  },
  {
   "cell_type": "code",
   "execution_count": 3,
   "metadata": {},
   "outputs": [
    {
     "data": {
      "text/plain": [
       "float"
      ]
     },
     "execution_count": 3,
     "metadata": {},
     "output_type": "execute_result"
    }
   ],
   "source": [
    "Y = 5.0\n",
    "type(Y)"
   ]
  },
  {
   "cell_type": "markdown",
   "metadata": {},
   "source": [
    "\"float\" quer dizer ponto flutuante. Eles podem representa números fracionários.\n"
   ]
  },
  {
   "cell_type": "markdown",
   "metadata": {},
   "source": [
    "Podemos também forçar o tipo de uma variável"
   ]
  },
  {
   "cell_type": "code",
   "execution_count": 4,
   "metadata": {},
   "outputs": [
    {
     "name": "stdout",
     "output_type": "stream",
     "text": [
      "O valor de A eh: 4 e seu tipo eh: <class 'int'>\n",
      "O valor de B eh: 5 e seu tipo eh: <class 'int'> note que seu valor foi arredondado para o inteiro mais proximo\n",
      "O valor de C eh: 3.0 e seu tipo eh: <class 'float'>\n",
      "O valor de D eh: 4.3 e seu tipo eh: <class 'float'>\n",
      "O valor de D eh: sou uma lista de caracteres e seu tipo eh: <class 'str'>\n",
      "O valor de D eh: 5.35153 e seu tipo eh: <class 'str'>\n"
     ]
    }
   ],
   "source": [
    "A = int(4)\n",
    "B = int(5.3)\n",
    "C = float(3)\n",
    "D = float(4.3)\n",
    "E = str('sou uma lista de caracteres')\n",
    "F = str(5.35153)\n",
    "print ('O valor de A eh: ' + str(A) + ' e seu tipo eh: ' + str(type(A)))\n",
    "print ('O valor de B eh: ' + str(B) + ' e seu tipo eh: ' + str(type(B)) + \n",
    "       ' note que seu valor foi arredondado para o inteiro mais proximo')\n",
    "print ('O valor de C eh: ' + str(C) + ' e seu tipo eh: ' + str(type(C)))\n",
    "print ('O valor de D eh: ' + str(D) + ' e seu tipo eh: ' + str(type(D)))\n",
    "print ('O valor de D eh: ' + str(E) + ' e seu tipo eh: ' + str(type(E)))\n",
    "print ('O valor de D eh: ' + str(F) + ' e seu tipo eh: ' + str(type(F)))"
   ]
  },
  {
   "cell_type": "markdown",
   "metadata": {},
   "source": [
    " Também podemos representar números complexos:"
   ]
  },
  {
   "cell_type": "code",
   "execution_count": 5,
   "metadata": {},
   "outputs": [
    {
     "name": "stdout",
     "output_type": "stream",
     "text": [
      "(4+3j)\n"
     ]
    }
   ],
   "source": [
    "num = complex('4+3j')\n",
    "print (num)"
   ]
  },
  {
   "cell_type": "markdown",
   "metadata": {},
   "source": [
    "Representamos um número complexo com parte real igual a 4 e parte imaginária igual a 3, sendo \"j\" variável complexa $\\sqrt(-1)$. "
   ]
  },
  {
   "cell_type": "markdown",
   "metadata": {},
   "source": [
    "### Operações Básicas\n",
    "Podemos realizar operações algébricas e lógicas sobre as variáveis."
   ]
  },
  {
   "cell_type": "code",
   "execution_count": 6,
   "metadata": {},
   "outputs": [],
   "source": [
    "A = 5+2 # soma\n",
    "B = 5-2 # subtracao\n",
    "C = 5*2 # multiplicacao\n",
    "D = 5/2 # divisao\n",
    "E = 5%2 # resto\n",
    "G = 5**2# exponencial. CUIDADO: 5^2 em python significa a operação binário XOR, e não exponencial"
   ]
  },
  {
   "cell_type": "markdown",
   "metadata": {},
   "source": [
    "Operações de comparação:"
   ]
  },
  {
   "cell_type": "code",
   "execution_count": 7,
   "metadata": {},
   "outputs": [
    {
     "name": "stdout",
     "output_type": "stream",
     "text": [
      "False\n",
      "True\n",
      "True\n",
      "False\n",
      "True\n",
      "False\n"
     ]
    }
   ],
   "source": [
    "print(A == B) # igualdade (note que o = serve para atribuir valores)\n",
    "print(A != B) # nao igual\n",
    "print(A > B)  # maior\n",
    "print(A < B)  # menor\n",
    "print(A >= B) # maior igual\n",
    "print(A <= B) # menor igual"
   ]
  },
  {
   "cell_type": "markdown",
   "metadata": {},
   "source": [
    "Os valores True e False acima são resultado das operações de comparação com base nos valores de A e B definidos anteriormente."
   ]
  },
  {
   "cell_type": "markdown",
   "metadata": {},
   "source": [
    "Também são suportadas operações de lógica booleana."
   ]
  },
  {
   "cell_type": "code",
   "execution_count": 8,
   "metadata": {},
   "outputs": [
    {
     "name": "stdout",
     "output_type": "stream",
     "text": [
      "False\n",
      "True\n",
      "True\n"
     ]
    }
   ],
   "source": [
    "A = True\n",
    "B = False\n",
    "print(A and B)\n",
    "print(A and not B)\n",
    "print(A or B)"
   ]
  },
  {
   "cell_type": "markdown",
   "metadata": {},
   "source": [
    "Para mais informações sobre operadores veja o link: https://www.tutorialspoint.com/python/python_basic_operators.htm"
   ]
  },
  {
   "cell_type": "markdown",
   "metadata": {},
   "source": [
    "### Containers\n",
    "Python suporta diversas estruturas para armazenamento de variáveis de forma estruturada. A mais comum é a lista, que pode ser definida das seguintes formas:"
   ]
  },
  {
   "cell_type": "code",
   "execution_count": 9,
   "metadata": {},
   "outputs": [],
   "source": [
    "lista = list([1,2,3,47,3]) # com o comando list explicito\n",
    "lista2 = [1,4214,1242,124,6] # forma implicita do comando"
   ]
  },
  {
   "cell_type": "code",
   "execution_count": 10,
   "metadata": {},
   "outputs": [
    {
     "name": "stdout",
     "output_type": "stream",
     "text": [
      "A lista contem 5 elementos, sendo eles: [1, 2, 3, 47, 3]\n",
      "O primeiro item da lista e 1 e o ultimo e: 3\n"
     ]
    }
   ],
   "source": [
    "print('A lista contem ' + str(len(lista)) + ' elementos, sendo eles: ' + str(lista))\n",
    "print('O primeiro item da lista e ' + str(lista[0]) + ' e o ultimo e: ' + str(lista[-1]))"
   ]
  },
  {
   "cell_type": "code",
   "execution_count": 11,
   "metadata": {},
   "outputs": [
    {
     "name": "stdout",
     "output_type": "stream",
     "text": [
      "O quarto elemento foi modificado para: 77\n",
      "O novo ultimo elemento agora e: 99\n",
      "A lista agora tem os seguintes valores: [1, 2, 101, 3, 77, 3, 99]\n"
     ]
    }
   ],
   "source": [
    "lista[3] = 77 # modifica o elemento na posicao 3 (o quarto elemento a partir do 0)\n",
    "print('O quarto elemento foi modificado para: ' + str(lista[3]))\n",
    "\n",
    "lista.append(99) # insere um elemento no fim da lista\n",
    "print('O novo ultimo elemento agora e: '+ str(lista[-1]))\n",
    "\n",
    "lista.insert(2, 101) # insere o valor 101 na posicao 2\n",
    "print('A lista agora tem os seguintes valores: ' + str(lista))"
   ]
  },
  {
   "cell_type": "markdown",
   "metadata": {},
   "source": [
    "Também podemos criar listas que não podem ser modificadas. São chamadas de tuplas. São úteis para quando queremos garantir que a estrutura não será modificada."
   ]
  },
  {
   "cell_type": "code",
   "execution_count": 12,
   "metadata": {},
   "outputs": [],
   "source": [
    "tupla = (32,1,23,4)\n",
    "#tupla[2] = 7  # essa linha causaria um erro"
   ]
  },
  {
   "cell_type": "markdown",
   "metadata": {},
   "source": [
    "É considerado boa prática utilizar listas para itens de mesmo tipo e tuplas para conjuntos heterogêneos."
   ]
  },
  {
   "cell_type": "code",
   "execution_count": 13,
   "metadata": {},
   "outputs": [],
   "source": [
    "dia = (25, 'janeiro', 2018)"
   ]
  },
  {
   "cell_type": "markdown",
   "metadata": {},
   "source": [
    "### Vetores e matrizes\n",
    "Podemos tentar representar vetores e matrizes com listas. Por exemplo:"
   ]
  },
  {
   "cell_type": "code",
   "execution_count": 14,
   "metadata": {},
   "outputs": [
    {
     "name": "stdout",
     "output_type": "stream",
     "text": [
      "[1, 2, 3, 4, 1, 2, 3, 4]\n"
     ]
    }
   ],
   "source": [
    "A = [1,2,3,4]\n",
    "B = [1,2,3,4]\n",
    "print(A+B)"
   ]
  },
  {
   "cell_type": "markdown",
   "metadata": {},
   "source": [
    "Vemos que listas não se comportam da forma que esperamos para vetores. Ao invés de somar os vetores elemento a elemento, o Python concatena as duas listas. Vamos tentar multiplicar por um valor escalar:"
   ]
  },
  {
   "cell_type": "code",
   "execution_count": 15,
   "metadata": {},
   "outputs": [
    {
     "name": "stdout",
     "output_type": "stream",
     "text": [
      "[1, 2, 3, 4, 1, 2, 3, 4, 1, 2, 3, 4]\n"
     ]
    }
   ],
   "source": [
    "print(A*3)"
   ]
  },
  {
   "cell_type": "markdown",
   "metadata": {},
   "source": [
    "Novamente, o comportamento esperado não foi obtido, o Python simplesmente replicou a lista 3 vezes. "
   ]
  },
  {
   "cell_type": "markdown",
   "metadata": {},
   "source": [
    "As noções matemáticas de vetores e matrizes não são suportados nativamente pelo Python. Então precisamos, ou programar para que o Python faça o esperado, ou simplesmente importar estruturas de dados para os vetores e matrizes de algum lugar externo, chamado biblioteca em programação. No Python, a maneira de trazer componentes externos é através de comandos $import$:"
   ]
  },
  {
   "cell_type": "code",
   "execution_count": 16,
   "metadata": {},
   "outputs": [],
   "source": [
    "import numpy as np"
   ]
  },
  {
   "cell_type": "markdown",
   "metadata": {},
   "source": [
    "Esse comando importa a biblioteca Numpy, que define estrutura de matrizes e vetores, e a inclui em nosso programa com o nome \"np\". Para definirmos um vetor agora podemos simplesmente:"
   ]
  },
  {
   "cell_type": "code",
   "execution_count": 17,
   "metadata": {},
   "outputs": [
    {
     "name": "stdout",
     "output_type": "stream",
     "text": [
      "[1 2 3 4]\n"
     ]
    }
   ],
   "source": [
    "vetorlin = np.array([1,2,3,4]) # Vetor linha: 1 linha e 4 colunas\n",
    "print(vetorlin)"
   ]
  },
  {
   "cell_type": "markdown",
   "metadata": {},
   "source": [
    "Repare que a função $array$ recebe uma lista de números e cria uma matriz ou vetor. Para o caso de vetorlin, onde temos uma linha, utilizamos apenas uma lista."
   ]
  },
  {
   "cell_type": "markdown",
   "metadata": {},
   "source": [
    " Para criar uma matriz com mais de uma linha, devemos fornecer múltiplas listas para a função $array$. Por exemplo, para criar o vetor $vetorlin^T$, devemos passar 4 listas com um elemento em casa. Repare que o conjunto de listas deve estar contido dentro de uma tupla (por isso temos dois parêntesis de cada lado):  "
   ]
  },
  {
   "cell_type": "code",
   "execution_count": 18,
   "metadata": {},
   "outputs": [
    {
     "name": "stdout",
     "output_type": "stream",
     "text": [
      "[[1]\n",
      " [2]\n",
      " [3]\n",
      " [4]]\n"
     ]
    }
   ],
   "source": [
    "vetorcol = np.array(([1],[2],[3],[4])) # Vetor coluna: 4 linhas e 1 coluna\n",
    "print(vetorcol)"
   ]
  },
  {
   "cell_type": "markdown",
   "metadata": {},
   "source": [
    "E para o caso de uma matriz:"
   ]
  },
  {
   "cell_type": "code",
   "execution_count": 19,
   "metadata": {},
   "outputs": [
    {
     "name": "stdout",
     "output_type": "stream",
     "text": [
      "[[1 2 3 4]\n",
      " [5 6 7 8]]\n"
     ]
    }
   ],
   "source": [
    "matriz = np.array(([1,2,3,4],[5,6,7,8])) # Matrix 2x4: 2 linhas e 4 colunas\n",
    "print(matriz)"
   ]
  },
  {
   "cell_type": "code",
   "execution_count": 20,
   "metadata": {},
   "outputs": [
    {
     "name": "stdout",
     "output_type": "stream",
     "text": [
      "O vetor linha tem dimensao (4,) e tipo int64\n"
     ]
    }
   ],
   "source": [
    "print('O vetor linha tem dimensao ' + str(vetorlin.shape) +' e tipo '+ str(vetorlin.dtype))"
   ]
  },
  {
   "cell_type": "markdown",
   "metadata": {},
   "source": [
    "Repare que o atributo $shape$ referente a variável $vetor$ é uma tupla onde o primeiro elemento é o número de linhas e o segundo o de colunas (como tem apenas 1 coluna, o parâmetro é omitido). O tipo $int64$ quer dizer que é um número inteiro representado utilizando 64 bits."
   ]
  },
  {
   "cell_type": "code",
   "execution_count": 21,
   "metadata": {},
   "outputs": [
    {
     "name": "stdout",
     "output_type": "stream",
     "text": [
      "O item na posicao linha,coluna:1,3 na matriz eh: 8\n"
     ]
    }
   ],
   "source": [
    "print('O item na posicao linha,coluna:1,3 na matriz eh: ' + str(matriz[1,3]))"
   ]
  },
  {
   "cell_type": "markdown",
   "metadata": {},
   "source": [
    "Listas, tuplas, matrizes e todas as outras estruturas com diversos valores são indexadas a partir do 0."
   ]
  },
  {
   "cell_type": "markdown",
   "metadata": {},
   "source": [
    "Quando matrizes têm o mesmo número de elementos, elas também suportam operações algébricas e lógicas:"
   ]
  },
  {
   "cell_type": "code",
   "execution_count": 22,
   "metadata": {},
   "outputs": [
    {
     "name": "stdout",
     "output_type": "stream",
     "text": [
      "[[1 2]\n",
      " [3 4]]\n",
      "[[4 3]\n",
      " [2 1]]\n"
     ]
    }
   ],
   "source": [
    "A = np.array(([1,2],[3,4]))\n",
    "B = np.array(([4,3],[2,1]))\n",
    "print(A)\n",
    "\n",
    "print(B)"
   ]
  },
  {
   "cell_type": "markdown",
   "metadata": {},
   "source": [
    "Confira agora se as matrizes A e B se comportam como o esperado. Pesquise também como realizar a operação de produto escalar utilizando a biblioteca Numpy (em inglês produto escalar é dot product)."
   ]
  },
  {
   "cell_type": "code",
   "execution_count": null,
   "metadata": {},
   "outputs": [],
   "source": []
  },
  {
   "cell_type": "markdown",
   "metadata": {},
   "source": [
    "## Loops"
   ]
  },
  {
   "cell_type": "markdown",
   "metadata": {},
   "source": [
    "Programas geralmente fazem um grande número de operações repetitivas em grandes conjuntos de dados. Por exemplo, se quisermos imprimir todos os elementos da variável \"lista\", temos que:"
   ]
  },
  {
   "cell_type": "code",
   "execution_count": 23,
   "metadata": {},
   "outputs": [
    {
     "name": "stdout",
     "output_type": "stream",
     "text": [
      "1\n",
      "2\n",
      "101\n",
      "3\n",
      "77\n",
      "3\n"
     ]
    }
   ],
   "source": [
    "print(lista[0])\n",
    "print(lista[1])\n",
    "print(lista[2])\n",
    "print(lista[3])\n",
    "print(lista[4])\n",
    "print(lista[5])"
   ]
  },
  {
   "cell_type": "markdown",
   "metadata": {},
   "source": [
    "Para evitarmos repetir código (e se essa lista tivesse mil elementos???) utilizamos estruturas de loop. Sua estrutura é:"
   ]
  },
  {
   "cell_type": "code",
   "execution_count": 24,
   "metadata": {},
   "outputs": [
    {
     "name": "stdout",
     "output_type": "stream",
     "text": [
      "1\n",
      "2\n",
      "101\n",
      "3\n",
      "77\n",
      "3\n",
      "99\n"
     ]
    }
   ],
   "source": [
    "for elemento in lista:\n",
    "    print(elemento)"
   ]
  },
  {
   "cell_type": "markdown",
   "metadata": {},
   "source": [
    "De forma similar, podemos obter o indice e elemento atuais para cada \"rodada\" do loop através da função $enumerate$."
   ]
  },
  {
   "cell_type": "code",
   "execution_count": 25,
   "metadata": {},
   "outputs": [
    {
     "name": "stdout",
     "output_type": "stream",
     "text": [
      "O elemento na posicao 0 tem valor: 1\n",
      "O elemento na posicao 1 tem valor: 2\n",
      "O elemento na posicao 2 tem valor: 101\n",
      "O elemento na posicao 3 tem valor: 3\n",
      "O elemento na posicao 4 tem valor: 77\n",
      "O elemento na posicao 5 tem valor: 3\n",
      "O elemento na posicao 6 tem valor: 99\n"
     ]
    }
   ],
   "source": [
    "for indice, elemento in enumerate(lista):\n",
    "    print('O elemento na posicao ' + str(indice) + ' tem valor: ' + str(elemento))"
   ]
  },
  {
   "cell_type": "markdown",
   "metadata": {},
   "source": [
    "Podemos utilizar loops para realizar operações que dependem de todos os elementos de uma lista. Por exemplo somar todos os itens em uma lista:"
   ]
  },
  {
   "cell_type": "code",
   "execution_count": 26,
   "metadata": {},
   "outputs": [
    {
     "name": "stdout",
     "output_type": "stream",
     "text": [
      "286\n"
     ]
    }
   ],
   "source": [
    "soma = 0\n",
    "for elemento in lista:\n",
    "    soma = soma + elemento\n",
    "print(soma)"
   ]
  },
  {
   "cell_type": "markdown",
   "metadata": {},
   "source": [
    "## Condicionais\n",
    "Também podemos executar um certo trecho de código apenas se uma condição for atendida:"
   ]
  },
  {
   "cell_type": "code",
   "execution_count": 27,
   "metadata": {},
   "outputs": [
    {
     "name": "stdout",
     "output_type": "stream",
     "text": [
      "O valor 6 eh maior que 3\n"
     ]
    }
   ],
   "source": [
    "if (matriz[1,1] > 3):\n",
    "    print('O valor ' + str(matriz[1,1]) + ' eh maior que 3')\n",
    "elif (matriz[1,1] < 3):\n",
    "    print('O valor ' + str(matriz[1,1]) + ' eh menor que 3')\n",
    "else:\n",
    "    print('O valor ' + str(matriz[1,1]) + ' soh pode ser 3')"
   ]
  },
  {
   "cell_type": "markdown",
   "metadata": {},
   "source": [
    "## Funções\n",
    "É comum querermos utilizar uma mesma funcionalidade em diversos pontos do código. Funções permitem que isso aconteça. Elas são entidades que recebem um conjunto de dados ou parâmetros de entrada e retorna zero ou mais valores de saída. Por exemplo a função $print$ que temos utilizado recebe um vetor de caracteres de entrada e sua saída é texto formatado na tela. \n",
    "\n",
    "Para se definir uma função basta:"
   ]
  },
  {
   "cell_type": "code",
   "execution_count": 28,
   "metadata": {},
   "outputs": [],
   "source": [
    "def soma(parametro1, parametro2, parametro3):\n",
    "    # Faz alguma coisa com os parametros\n",
    "    return parametro1+parametro2+parametro3"
   ]
  },
  {
   "cell_type": "markdown",
   "metadata": {},
   "source": [
    "A função acima realiza a soma de 3 paramâmetros. Para usá-la:"
   ]
  },
  {
   "cell_type": "code",
   "execution_count": 29,
   "metadata": {},
   "outputs": [
    {
     "name": "stdout",
     "output_type": "stream",
     "text": [
      "14\n"
     ]
    }
   ],
   "source": [
    "print(soma(3,5,6))"
   ]
  },
  {
   "cell_type": "markdown",
   "metadata": {},
   "source": [
    "## Exercício 1\n",
    "Faça uma função que calcula seu RSG para um dado semestre. A função deve receber valores de crédito e nota final correspondentes e retornar um valor de RSG de 0 a 5. Considere que o semestre terá apenas 3 disciplinas. Dica: crie primeiro uma função que recebe uma nota de 0 a 100 e gera um conceito (use 5 para A, 4 para B e assim por diante).\n"
   ]
  },
  {
   "cell_type": "code",
   "execution_count": null,
   "metadata": {},
   "outputs": [],
   "source": []
  },
  {
   "cell_type": "markdown",
   "metadata": {},
   "source": [
    "## Exercício 2 \n",
    "Adapte a função do Ex. 1 para aceitar como entrada um número qualquer de disciplinas. Dica: você pode passar uma matriz onde cada linha representa uma disciplina, a primeira coluna representa o número de créditos e a segunda coluna representa a nota final. Você também pode passar uma lista de número de créditos e outra lista com as notas."
   ]
  },
  {
   "cell_type": "code",
   "execution_count": null,
   "metadata": {},
   "outputs": [],
   "source": []
  },
  {
   "cell_type": "markdown",
   "metadata": {},
   "source": [
    "Abaixo listas de notas e créditos para testar suas funções:\n",
    "\n",
    "Notas = 90, 50, 40, 30\n",
    "\n",
    "Creditos = 12, 8, 6, 4\n",
    "\n",
    "RSG = 2.2666\n",
    "-----------------\n",
    "Notas = 43\n",
    "\n",
    "Creditos = 4\n",
    "\n",
    "RSG = 0\n",
    "-----------------\n",
    "Notas = 100, 98, 97, 95, 94, 80, 74, 68, 49\n",
    "\n",
    "Créditos = 1, 4, 6, 8, 12, 3, 6, 8, 12\n",
    "\n",
    "RSG = 3.35\n",
    "----------------\n",
    "Notas = 91, 90, 89\n",
    "\n",
    "Créditos = 1,2,3\n",
    "\n",
    "RSG = 4.5\n",
    "---------------"
   ]
  }
 ],
 "metadata": {
  "kernelspec": {
   "display_name": "Python 3",
   "language": "python",
   "name": "python3"
  },
  "language_info": {
   "codemirror_mode": {
    "name": "ipython",
    "version": 3
   },
   "file_extension": ".py",
   "mimetype": "text/x-python",
   "name": "python",
   "nbconvert_exporter": "python",
   "pygments_lexer": "ipython3",
   "version": "3.6.5"
  }
 },
 "nbformat": 4,
 "nbformat_minor": 1
}
